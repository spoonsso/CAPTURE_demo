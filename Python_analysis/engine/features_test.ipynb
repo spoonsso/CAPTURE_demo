{
 "cells": [
  {
   "cell_type": "code",
   "execution_count": 1,
   "metadata": {},
   "outputs": [],
   "source": [
    "from features import *\n",
    "import DataStruct as ds\n",
    "import visualization as vis\n",
    "from sklearn.decomposition import IncrementalPCA\n",
    "\n",
    "pose_struct = ds.DataStruct(config_path = '../configs/path_configs/embedding_analysis_dcc_r01.yaml')\n",
    "pose_struct.load_connectivity()\n",
    "pose_struct.load_pose()\n",
    "pose_struct.load_feats()"
   ]
  },
  {
   "cell_type": "code",
   "execution_count": null,
   "metadata": {},
   "outputs": [],
   "source": [
    "pose_rot = align_floor(pose_struct.pose_3d, \n",
    "                       pose_struct.exp_ids_full)"
   ]
  },
  {
   "cell_type": "code",
   "execution_count": null,
   "metadata": {},
   "outputs": [],
   "source": [
    "velocities = get_velocities(pose_rot, pose_struct.exp_ids_full)"
   ]
  }
 ],
 "metadata": {
  "kernelspec": {
   "display_name": "Python 3.8.12 ('capture')",
   "language": "python",
   "name": "python3"
  },
  "language_info": {
   "codemirror_mode": {
    "name": "ipython",
    "version": 3
   },
   "file_extension": ".py",
   "mimetype": "text/x-python",
   "name": "python",
   "nbconvert_exporter": "python",
   "pygments_lexer": "ipython3",
   "version": "3.8.12"
  },
  "orig_nbformat": 4,
  "vscode": {
   "interpreter": {
    "hash": "0858df9649364569e95fe1038e12d910cc65ce65c3ca84acf7f90e2eeed545dd"
   }
  }
 },
 "nbformat": 4,
 "nbformat_minor": 2
}
