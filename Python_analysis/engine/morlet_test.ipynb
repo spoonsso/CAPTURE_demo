{
 "cells": [
  {
   "cell_type": "code",
   "execution_count": null,
   "metadata": {},
   "outputs": [],
   "source": [
    "from scipy import signal\n",
    "import matplotlib.pyplot as plt\n",
    "import numpy as np"
   ]
  },
  {
   "cell_type": "code",
   "execution_count": null,
   "metadata": {},
   "outputs": [],
   "source": [
    "M = 500\n",
    "w = 5.0\n",
    "s = w*90/(2*np.pi*25)\n",
    "wavelet = signal.morlet2(M, s, w)\n",
    "plt.plot(abs(wavelet))\n",
    "plt.show()"
   ]
  }
 ],
 "metadata": {
  "kernelspec": {
   "display_name": "Python 3.8.12 ('capture')",
   "language": "python",
   "name": "python3"
  },
  "language_info": {
   "name": "python",
   "version": "3.8.12"
  },
  "orig_nbformat": 4,
  "vscode": {
   "interpreter": {
    "hash": "0858df9649364569e95fe1038e12d910cc65ce65c3ca84acf7f90e2eeed545dd"
   }
  }
 },
 "nbformat": 4,
 "nbformat_minor": 2
}
